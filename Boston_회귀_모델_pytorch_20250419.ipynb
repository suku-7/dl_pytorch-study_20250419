{
  "nbformat": 4,
  "nbformat_minor": 0,
  "metadata": {
    "colab": {
      "provenance": [],
      "toc_visible": true
    },
    "kernelspec": {
      "name": "python3",
      "display_name": "Python 3"
    }
  },
  "cells": [
    {
      "cell_type": "markdown",
      "metadata": {
        "id": "cVB9pY-v8uv5"
      },
      "source": [
        "# [**Regressor**] Pytorch를 사용해서 Boston housing 데이터 회귀 모델 만들기"
      ]
    },
    {
      "cell_type": "markdown",
      "source": [
        "\n",
        "## **1.환경준비**"
      ],
      "metadata": {
        "id": "qTa9LlwZD_aa"
      }
    },
    {
      "cell_type": "markdown",
      "metadata": {
        "id": "LmYgbk87mcK3"
      },
      "source": [
        "### (1) 라이브러리 Import"
      ]
    },
    {
      "cell_type": "code",
      "metadata": {
        "id": "s3x4JtW-mcK3"
      },
      "source": [
        "import pandas as pd\n",
        "import numpy as np\n",
        "import matplotlib.pyplot as plt\n",
        "import seaborn as sns\n",
        "\n",
        "from sklearn.model_selection import train_test_split\n",
        "from sklearn.metrics import *\n",
        "from sklearn.preprocessing import StandardScaler, MinMaxScaler"
      ],
      "execution_count": 1,
      "outputs": []
    },
    {
      "cell_type": "code",
      "source": [
        "import torch\n",
        "from torch import nn\n",
        "from torch.utils.data import DataLoader, TensorDataset\n",
        "from torch.optim import Adam"
      ],
      "metadata": {
        "id": "hwdw2dLOTOLw"
      },
      "execution_count": 2,
      "outputs": []
    },
    {
      "cell_type": "markdown",
      "source": [
        "### (2) 필요 함수 생성"
      ],
      "metadata": {
        "id": "Y_xqeqpfTTG9"
      }
    },
    {
      "cell_type": "markdown",
      "source": [
        "* 딥러닝을 위한 데이터로더 만들기"
      ],
      "metadata": {
        "id": "0MONz4CL4lto"
      }
    },
    {
      "cell_type": "code",
      "source": [
        "def make_DataSet(x_train, x_val, y_train, y_val, batch_size = 32) :\n",
        "\n",
        "    # 데이터 텐서로 변환\n",
        "    x_train_tensor = torch.tensor(x_train, dtype=torch.float32)\n",
        "    y_train_tensor = torch.tensor(y_train.values, dtype=torch.float32).view(-1, 1)\n",
        "    x_val_tensor = torch.tensor(x_val, dtype=torch.float32)\n",
        "    y_val_tensor = torch.tensor(y_val.values, dtype=torch.float32).view(-1, 1)\n",
        "\n",
        "    # TensorDataset 생성 : 텐서 데이터셋으로 합치기\n",
        "    train_dataset = TensorDataset(x_train_tensor, y_train_tensor)\n",
        "\n",
        "    # DataLoader 생성\n",
        "    train_loader = DataLoader(train_dataset, batch_size=batch_size, shuffle = True)\n",
        "\n",
        "    return train_loader, x_val_tensor, y_val_tensor"
      ],
      "metadata": {
        "id": "AECOzJit4ltp"
      },
      "execution_count": 3,
      "outputs": []
    },
    {
      "cell_type": "markdown",
      "source": [
        "* 학습을 위한 함수"
      ],
      "metadata": {
        "id": "_eOnbRiu4ltp"
      }
    },
    {
      "cell_type": "code",
      "source": [
        "def train(dataloader, model, loss_fn, optimizer, device):\n",
        "    size = len(dataloader.dataset)                  # 전체 데이터셋의 크기\n",
        "    num_batches = len(dataloader)                   # 배치 크기\n",
        "    tr_loss = 0\n",
        "    model.train()                                   # 훈련 모드로 설정\n",
        "    for batch, (X, y) in enumerate(dataloader):     # batch : 현재 배치 번호, (X, y) : 입력 데이터와 레이블\n",
        "        X, y = X.to(device), y.to(device)           # 입력 데이터와 레이블을 지정된 장치(device, CPU 또는 GPU)로 연결\n",
        "\n",
        "        # Feed Forward\n",
        "        pred = model(X)\n",
        "        loss = loss_fn(pred, y)\n",
        "        tr_loss += loss\n",
        "\n",
        "        # Backpropagation\n",
        "        loss.backward()             # 역전파를 통해 모델의 각 파라미터에 대한 손실의 기울기를 계산\n",
        "        optimizer.step()            # 옵티마이저가 계산된 기울기를 사용하여 모델의 파라미터를 업데이트\n",
        "        optimizer.zero_grad()       # 옵티마이저의 기울기 값 초기화. 기울기가 누적되는 것 방지\n",
        "\n",
        "    tr_loss /= num_batches          # 모든 배치에서의 loss 평균\n",
        "\n",
        "    return tr_loss.item()"
      ],
      "metadata": {
        "id": "mrcDUGiy4ltp"
      },
      "execution_count": 4,
      "outputs": []
    },
    {
      "cell_type": "markdown",
      "source": [
        "* 검증을 위한 함수"
      ],
      "metadata": {
        "id": "TguF3F0b4ltp"
      }
    },
    {
      "cell_type": "code",
      "source": [
        "def evaluate(x_val_tensor, y_val_tensor, model, loss_fn, device):\n",
        "    model.eval()\n",
        "\n",
        "    with torch.no_grad():\n",
        "        x, y = x_val_tensor.to(device), y_val_tensor.to(device)\n",
        "        pred = model(x)\n",
        "        eval_loss = loss_fn(pred, y).item()\n",
        "\n",
        "    return eval_loss, pred"
      ],
      "metadata": {
        "id": "p1YVJVt34ltp"
      },
      "execution_count": 5,
      "outputs": []
    },
    {
      "cell_type": "markdown",
      "source": [
        "* 학습곡선"
      ],
      "metadata": {
        "id": "kpq80RFg6xfQ"
      }
    },
    {
      "cell_type": "code",
      "source": [
        "def dl_learning_curve(tr_loss_list, val_loss_list):\n",
        "\n",
        "    epochs = list(range(1, len(tr_loss_list)+1))\n",
        "    plt.plot(epochs, tr_loss_list, label='train_err', marker = '.')\n",
        "    plt.plot(epochs, val_loss_list, label='val_err', marker = '.')\n",
        "\n",
        "    plt.ylabel('Loss')\n",
        "    plt.xlabel('Epoch')\n",
        "    plt.legend()\n",
        "    plt.grid()\n",
        "    plt.show()"
      ],
      "metadata": {
        "id": "UzH_A-r36ypa"
      },
      "execution_count": 6,
      "outputs": []
    },
    {
      "cell_type": "markdown",
      "source": [
        "### (3) device 준비(cpu or gpu)"
      ],
      "metadata": {
        "id": "wLoXLOXQmJAn"
      }
    },
    {
      "cell_type": "code",
      "source": [
        "# cpu 혹은 gpu 사용\n",
        "device = \"cuda\" if torch.cuda.is_available() else \"cpu\"\n",
        "print(f\"Using {device} device\")"
      ],
      "metadata": {
        "id": "2q3J-SCkmJAo",
        "colab": {
          "base_uri": "https://localhost:8080/"
        },
        "outputId": "497ec7a0-db0f-4df1-ad46-dfb4be676715"
      },
      "execution_count": 7,
      "outputs": [
        {
          "output_type": "stream",
          "name": "stdout",
          "text": [
            "Using cpu device\n"
          ]
        }
      ]
    },
    {
      "cell_type": "markdown",
      "source": [
        "### (4) 데이터로딩"
      ],
      "metadata": {
        "id": "6wuqykgvviCc"
      }
    },
    {
      "cell_type": "code",
      "metadata": {
        "id": "Vqr7zY5r8uwC",
        "colab": {
          "base_uri": "https://localhost:8080/",
          "height": 206
        },
        "outputId": "7d0186c6-b77f-41e4-c30d-8471fd108fc3"
      },
      "source": [
        "path = 'https://raw.githubusercontent.com/suku-7/dl_pytorch-study_20250419/refs/heads/main/BostonHousing.csv'\n",
        "df = pd.read_csv(path)\n",
        "df.head()"
      ],
      "execution_count": 8,
      "outputs": [
        {
          "output_type": "execute_result",
          "data": {
            "text/plain": [
              "      crim    zn  indus  chas    nox     rm   age     dis  rad  tax  ptratio  \\\n",
              "0  0.00632  18.0   2.31     0  0.538  6.575  65.2  4.0900    1  296     15.3   \n",
              "1  0.02731   0.0   7.07     0  0.469  6.421  78.9  4.9671    2  242     17.8   \n",
              "2  0.02729   0.0   7.07     0  0.469  7.185  61.1  4.9671    2  242     17.8   \n",
              "3  0.03237   0.0   2.18     0  0.458  6.998  45.8  6.0622    3  222     18.7   \n",
              "4  0.06905   0.0   2.18     0  0.458  7.147  54.2  6.0622    3  222     18.7   \n",
              "\n",
              "        b  lstat  medv  \n",
              "0  396.90   4.98  24.0  \n",
              "1  396.90   9.14  21.6  \n",
              "2  392.83   4.03  34.7  \n",
              "3  394.63   2.94  33.4  \n",
              "4  396.90   5.33  36.2  "
            ],
            "text/html": [
              "\n",
              "  <div id=\"df-1aff4486-52c6-4872-9e9f-86134e9aaac9\" class=\"colab-df-container\">\n",
              "    <div>\n",
              "<style scoped>\n",
              "    .dataframe tbody tr th:only-of-type {\n",
              "        vertical-align: middle;\n",
              "    }\n",
              "\n",
              "    .dataframe tbody tr th {\n",
              "        vertical-align: top;\n",
              "    }\n",
              "\n",
              "    .dataframe thead th {\n",
              "        text-align: right;\n",
              "    }\n",
              "</style>\n",
              "<table border=\"1\" class=\"dataframe\">\n",
              "  <thead>\n",
              "    <tr style=\"text-align: right;\">\n",
              "      <th></th>\n",
              "      <th>crim</th>\n",
              "      <th>zn</th>\n",
              "      <th>indus</th>\n",
              "      <th>chas</th>\n",
              "      <th>nox</th>\n",
              "      <th>rm</th>\n",
              "      <th>age</th>\n",
              "      <th>dis</th>\n",
              "      <th>rad</th>\n",
              "      <th>tax</th>\n",
              "      <th>ptratio</th>\n",
              "      <th>b</th>\n",
              "      <th>lstat</th>\n",
              "      <th>medv</th>\n",
              "    </tr>\n",
              "  </thead>\n",
              "  <tbody>\n",
              "    <tr>\n",
              "      <th>0</th>\n",
              "      <td>0.00632</td>\n",
              "      <td>18.0</td>\n",
              "      <td>2.31</td>\n",
              "      <td>0</td>\n",
              "      <td>0.538</td>\n",
              "      <td>6.575</td>\n",
              "      <td>65.2</td>\n",
              "      <td>4.0900</td>\n",
              "      <td>1</td>\n",
              "      <td>296</td>\n",
              "      <td>15.3</td>\n",
              "      <td>396.90</td>\n",
              "      <td>4.98</td>\n",
              "      <td>24.0</td>\n",
              "    </tr>\n",
              "    <tr>\n",
              "      <th>1</th>\n",
              "      <td>0.02731</td>\n",
              "      <td>0.0</td>\n",
              "      <td>7.07</td>\n",
              "      <td>0</td>\n",
              "      <td>0.469</td>\n",
              "      <td>6.421</td>\n",
              "      <td>78.9</td>\n",
              "      <td>4.9671</td>\n",
              "      <td>2</td>\n",
              "      <td>242</td>\n",
              "      <td>17.8</td>\n",
              "      <td>396.90</td>\n",
              "      <td>9.14</td>\n",
              "      <td>21.6</td>\n",
              "    </tr>\n",
              "    <tr>\n",
              "      <th>2</th>\n",
              "      <td>0.02729</td>\n",
              "      <td>0.0</td>\n",
              "      <td>7.07</td>\n",
              "      <td>0</td>\n",
              "      <td>0.469</td>\n",
              "      <td>7.185</td>\n",
              "      <td>61.1</td>\n",
              "      <td>4.9671</td>\n",
              "      <td>2</td>\n",
              "      <td>242</td>\n",
              "      <td>17.8</td>\n",
              "      <td>392.83</td>\n",
              "      <td>4.03</td>\n",
              "      <td>34.7</td>\n",
              "    </tr>\n",
              "    <tr>\n",
              "      <th>3</th>\n",
              "      <td>0.03237</td>\n",
              "      <td>0.0</td>\n",
              "      <td>2.18</td>\n",
              "      <td>0</td>\n",
              "      <td>0.458</td>\n",
              "      <td>6.998</td>\n",
              "      <td>45.8</td>\n",
              "      <td>6.0622</td>\n",
              "      <td>3</td>\n",
              "      <td>222</td>\n",
              "      <td>18.7</td>\n",
              "      <td>394.63</td>\n",
              "      <td>2.94</td>\n",
              "      <td>33.4</td>\n",
              "    </tr>\n",
              "    <tr>\n",
              "      <th>4</th>\n",
              "      <td>0.06905</td>\n",
              "      <td>0.0</td>\n",
              "      <td>2.18</td>\n",
              "      <td>0</td>\n",
              "      <td>0.458</td>\n",
              "      <td>7.147</td>\n",
              "      <td>54.2</td>\n",
              "      <td>6.0622</td>\n",
              "      <td>3</td>\n",
              "      <td>222</td>\n",
              "      <td>18.7</td>\n",
              "      <td>396.90</td>\n",
              "      <td>5.33</td>\n",
              "      <td>36.2</td>\n",
              "    </tr>\n",
              "  </tbody>\n",
              "</table>\n",
              "</div>\n",
              "    <div class=\"colab-df-buttons\">\n",
              "\n",
              "  <div class=\"colab-df-container\">\n",
              "    <button class=\"colab-df-convert\" onclick=\"convertToInteractive('df-1aff4486-52c6-4872-9e9f-86134e9aaac9')\"\n",
              "            title=\"Convert this dataframe to an interactive table.\"\n",
              "            style=\"display:none;\">\n",
              "\n",
              "  <svg xmlns=\"http://www.w3.org/2000/svg\" height=\"24px\" viewBox=\"0 -960 960 960\">\n",
              "    <path d=\"M120-120v-720h720v720H120Zm60-500h600v-160H180v160Zm220 220h160v-160H400v160Zm0 220h160v-160H400v160ZM180-400h160v-160H180v160Zm440 0h160v-160H620v160ZM180-180h160v-160H180v160Zm440 0h160v-160H620v160Z\"/>\n",
              "  </svg>\n",
              "    </button>\n",
              "\n",
              "  <style>\n",
              "    .colab-df-container {\n",
              "      display:flex;\n",
              "      gap: 12px;\n",
              "    }\n",
              "\n",
              "    .colab-df-convert {\n",
              "      background-color: #E8F0FE;\n",
              "      border: none;\n",
              "      border-radius: 50%;\n",
              "      cursor: pointer;\n",
              "      display: none;\n",
              "      fill: #1967D2;\n",
              "      height: 32px;\n",
              "      padding: 0 0 0 0;\n",
              "      width: 32px;\n",
              "    }\n",
              "\n",
              "    .colab-df-convert:hover {\n",
              "      background-color: #E2EBFA;\n",
              "      box-shadow: 0px 1px 2px rgba(60, 64, 67, 0.3), 0px 1px 3px 1px rgba(60, 64, 67, 0.15);\n",
              "      fill: #174EA6;\n",
              "    }\n",
              "\n",
              "    .colab-df-buttons div {\n",
              "      margin-bottom: 4px;\n",
              "    }\n",
              "\n",
              "    [theme=dark] .colab-df-convert {\n",
              "      background-color: #3B4455;\n",
              "      fill: #D2E3FC;\n",
              "    }\n",
              "\n",
              "    [theme=dark] .colab-df-convert:hover {\n",
              "      background-color: #434B5C;\n",
              "      box-shadow: 0px 1px 3px 1px rgba(0, 0, 0, 0.15);\n",
              "      filter: drop-shadow(0px 1px 2px rgba(0, 0, 0, 0.3));\n",
              "      fill: #FFFFFF;\n",
              "    }\n",
              "  </style>\n",
              "\n",
              "    <script>\n",
              "      const buttonEl =\n",
              "        document.querySelector('#df-1aff4486-52c6-4872-9e9f-86134e9aaac9 button.colab-df-convert');\n",
              "      buttonEl.style.display =\n",
              "        google.colab.kernel.accessAllowed ? 'block' : 'none';\n",
              "\n",
              "      async function convertToInteractive(key) {\n",
              "        const element = document.querySelector('#df-1aff4486-52c6-4872-9e9f-86134e9aaac9');\n",
              "        const dataTable =\n",
              "          await google.colab.kernel.invokeFunction('convertToInteractive',\n",
              "                                                    [key], {});\n",
              "        if (!dataTable) return;\n",
              "\n",
              "        const docLinkHtml = 'Like what you see? Visit the ' +\n",
              "          '<a target=\"_blank\" href=https://colab.research.google.com/notebooks/data_table.ipynb>data table notebook</a>'\n",
              "          + ' to learn more about interactive tables.';\n",
              "        element.innerHTML = '';\n",
              "        dataTable['output_type'] = 'display_data';\n",
              "        await google.colab.output.renderOutput(dataTable, element);\n",
              "        const docLink = document.createElement('div');\n",
              "        docLink.innerHTML = docLinkHtml;\n",
              "        element.appendChild(docLink);\n",
              "      }\n",
              "    </script>\n",
              "  </div>\n",
              "\n",
              "\n",
              "<div id=\"df-74f1b54c-9a79-4a31-8ef7-235fee8c4aac\">\n",
              "  <button class=\"colab-df-quickchart\" onclick=\"quickchart('df-74f1b54c-9a79-4a31-8ef7-235fee8c4aac')\"\n",
              "            title=\"Suggest charts\"\n",
              "            style=\"display:none;\">\n",
              "\n",
              "<svg xmlns=\"http://www.w3.org/2000/svg\" height=\"24px\"viewBox=\"0 0 24 24\"\n",
              "     width=\"24px\">\n",
              "    <g>\n",
              "        <path d=\"M19 3H5c-1.1 0-2 .9-2 2v14c0 1.1.9 2 2 2h14c1.1 0 2-.9 2-2V5c0-1.1-.9-2-2-2zM9 17H7v-7h2v7zm4 0h-2V7h2v10zm4 0h-2v-4h2v4z\"/>\n",
              "    </g>\n",
              "</svg>\n",
              "  </button>\n",
              "\n",
              "<style>\n",
              "  .colab-df-quickchart {\n",
              "      --bg-color: #E8F0FE;\n",
              "      --fill-color: #1967D2;\n",
              "      --hover-bg-color: #E2EBFA;\n",
              "      --hover-fill-color: #174EA6;\n",
              "      --disabled-fill-color: #AAA;\n",
              "      --disabled-bg-color: #DDD;\n",
              "  }\n",
              "\n",
              "  [theme=dark] .colab-df-quickchart {\n",
              "      --bg-color: #3B4455;\n",
              "      --fill-color: #D2E3FC;\n",
              "      --hover-bg-color: #434B5C;\n",
              "      --hover-fill-color: #FFFFFF;\n",
              "      --disabled-bg-color: #3B4455;\n",
              "      --disabled-fill-color: #666;\n",
              "  }\n",
              "\n",
              "  .colab-df-quickchart {\n",
              "    background-color: var(--bg-color);\n",
              "    border: none;\n",
              "    border-radius: 50%;\n",
              "    cursor: pointer;\n",
              "    display: none;\n",
              "    fill: var(--fill-color);\n",
              "    height: 32px;\n",
              "    padding: 0;\n",
              "    width: 32px;\n",
              "  }\n",
              "\n",
              "  .colab-df-quickchart:hover {\n",
              "    background-color: var(--hover-bg-color);\n",
              "    box-shadow: 0 1px 2px rgba(60, 64, 67, 0.3), 0 1px 3px 1px rgba(60, 64, 67, 0.15);\n",
              "    fill: var(--button-hover-fill-color);\n",
              "  }\n",
              "\n",
              "  .colab-df-quickchart-complete:disabled,\n",
              "  .colab-df-quickchart-complete:disabled:hover {\n",
              "    background-color: var(--disabled-bg-color);\n",
              "    fill: var(--disabled-fill-color);\n",
              "    box-shadow: none;\n",
              "  }\n",
              "\n",
              "  .colab-df-spinner {\n",
              "    border: 2px solid var(--fill-color);\n",
              "    border-color: transparent;\n",
              "    border-bottom-color: var(--fill-color);\n",
              "    animation:\n",
              "      spin 1s steps(1) infinite;\n",
              "  }\n",
              "\n",
              "  @keyframes spin {\n",
              "    0% {\n",
              "      border-color: transparent;\n",
              "      border-bottom-color: var(--fill-color);\n",
              "      border-left-color: var(--fill-color);\n",
              "    }\n",
              "    20% {\n",
              "      border-color: transparent;\n",
              "      border-left-color: var(--fill-color);\n",
              "      border-top-color: var(--fill-color);\n",
              "    }\n",
              "    30% {\n",
              "      border-color: transparent;\n",
              "      border-left-color: var(--fill-color);\n",
              "      border-top-color: var(--fill-color);\n",
              "      border-right-color: var(--fill-color);\n",
              "    }\n",
              "    40% {\n",
              "      border-color: transparent;\n",
              "      border-right-color: var(--fill-color);\n",
              "      border-top-color: var(--fill-color);\n",
              "    }\n",
              "    60% {\n",
              "      border-color: transparent;\n",
              "      border-right-color: var(--fill-color);\n",
              "    }\n",
              "    80% {\n",
              "      border-color: transparent;\n",
              "      border-right-color: var(--fill-color);\n",
              "      border-bottom-color: var(--fill-color);\n",
              "    }\n",
              "    90% {\n",
              "      border-color: transparent;\n",
              "      border-bottom-color: var(--fill-color);\n",
              "    }\n",
              "  }\n",
              "</style>\n",
              "\n",
              "  <script>\n",
              "    async function quickchart(key) {\n",
              "      const quickchartButtonEl =\n",
              "        document.querySelector('#' + key + ' button');\n",
              "      quickchartButtonEl.disabled = true;  // To prevent multiple clicks.\n",
              "      quickchartButtonEl.classList.add('colab-df-spinner');\n",
              "      try {\n",
              "        const charts = await google.colab.kernel.invokeFunction(\n",
              "            'suggestCharts', [key], {});\n",
              "      } catch (error) {\n",
              "        console.error('Error during call to suggestCharts:', error);\n",
              "      }\n",
              "      quickchartButtonEl.classList.remove('colab-df-spinner');\n",
              "      quickchartButtonEl.classList.add('colab-df-quickchart-complete');\n",
              "    }\n",
              "    (() => {\n",
              "      let quickchartButtonEl =\n",
              "        document.querySelector('#df-74f1b54c-9a79-4a31-8ef7-235fee8c4aac button');\n",
              "      quickchartButtonEl.style.display =\n",
              "        google.colab.kernel.accessAllowed ? 'block' : 'none';\n",
              "    })();\n",
              "  </script>\n",
              "</div>\n",
              "\n",
              "    </div>\n",
              "  </div>\n"
            ],
            "application/vnd.google.colaboratory.intrinsic+json": {
              "type": "dataframe",
              "variable_name": "df",
              "summary": "{\n  \"name\": \"df\",\n  \"rows\": 506,\n  \"fields\": [\n    {\n      \"column\": \"crim\",\n      \"properties\": {\n        \"dtype\": \"number\",\n        \"std\": 8.601545105332487,\n        \"min\": 0.00632,\n        \"max\": 88.9762,\n        \"num_unique_values\": 504,\n        \"samples\": [\n          0.09178,\n          0.05644,\n          0.10574\n        ],\n        \"semantic_type\": \"\",\n        \"description\": \"\"\n      }\n    },\n    {\n      \"column\": \"zn\",\n      \"properties\": {\n        \"dtype\": \"number\",\n        \"std\": 23.322452994515036,\n        \"min\": 0.0,\n        \"max\": 100.0,\n        \"num_unique_values\": 26,\n        \"samples\": [\n          25.0,\n          30.0,\n          18.0\n        ],\n        \"semantic_type\": \"\",\n        \"description\": \"\"\n      }\n    },\n    {\n      \"column\": \"indus\",\n      \"properties\": {\n        \"dtype\": \"number\",\n        \"std\": 6.8603529408975845,\n        \"min\": 0.46,\n        \"max\": 27.74,\n        \"num_unique_values\": 76,\n        \"samples\": [\n          8.14,\n          1.47,\n          1.22\n        ],\n        \"semantic_type\": \"\",\n        \"description\": \"\"\n      }\n    },\n    {\n      \"column\": \"chas\",\n      \"properties\": {\n        \"dtype\": \"number\",\n        \"std\": 0,\n        \"min\": 0,\n        \"max\": 1,\n        \"num_unique_values\": 2,\n        \"samples\": [\n          1,\n          0\n        ],\n        \"semantic_type\": \"\",\n        \"description\": \"\"\n      }\n    },\n    {\n      \"column\": \"nox\",\n      \"properties\": {\n        \"dtype\": \"number\",\n        \"std\": 0.11587767566755611,\n        \"min\": 0.385,\n        \"max\": 0.871,\n        \"num_unique_values\": 81,\n        \"samples\": [\n          0.401,\n          0.538\n        ],\n        \"semantic_type\": \"\",\n        \"description\": \"\"\n      }\n    },\n    {\n      \"column\": \"rm\",\n      \"properties\": {\n        \"dtype\": \"number\",\n        \"std\": 0.7055867751520439,\n        \"min\": 3.561,\n        \"max\": 8.78,\n        \"num_unique_values\": 441,\n        \"samples\": [\n          6.389,\n          6.12\n        ],\n        \"semantic_type\": \"\",\n        \"description\": \"\"\n      }\n    },\n    {\n      \"column\": \"age\",\n      \"properties\": {\n        \"dtype\": \"number\",\n        \"std\": 28.148861406903638,\n        \"min\": 2.9,\n        \"max\": 100.0,\n        \"num_unique_values\": 356,\n        \"samples\": [\n          51.8,\n          33.8\n        ],\n        \"semantic_type\": \"\",\n        \"description\": \"\"\n      }\n    },\n    {\n      \"column\": \"dis\",\n      \"properties\": {\n        \"dtype\": \"number\",\n        \"std\": 2.1057101266276104,\n        \"min\": 1.1296,\n        \"max\": 12.1265,\n        \"num_unique_values\": 412,\n        \"samples\": [\n          2.2955,\n          4.2515\n        ],\n        \"semantic_type\": \"\",\n        \"description\": \"\"\n      }\n    },\n    {\n      \"column\": \"rad\",\n      \"properties\": {\n        \"dtype\": \"number\",\n        \"std\": 8,\n        \"min\": 1,\n        \"max\": 24,\n        \"num_unique_values\": 9,\n        \"samples\": [\n          7,\n          2\n        ],\n        \"semantic_type\": \"\",\n        \"description\": \"\"\n      }\n    },\n    {\n      \"column\": \"tax\",\n      \"properties\": {\n        \"dtype\": \"number\",\n        \"std\": 168,\n        \"min\": 187,\n        \"max\": 711,\n        \"num_unique_values\": 66,\n        \"samples\": [\n          370,\n          666\n        ],\n        \"semantic_type\": \"\",\n        \"description\": \"\"\n      }\n    },\n    {\n      \"column\": \"ptratio\",\n      \"properties\": {\n        \"dtype\": \"number\",\n        \"std\": 2.164945523714446,\n        \"min\": 12.6,\n        \"max\": 22.0,\n        \"num_unique_values\": 46,\n        \"samples\": [\n          19.6,\n          15.6\n        ],\n        \"semantic_type\": \"\",\n        \"description\": \"\"\n      }\n    },\n    {\n      \"column\": \"b\",\n      \"properties\": {\n        \"dtype\": \"number\",\n        \"std\": 91.29486438415779,\n        \"min\": 0.32,\n        \"max\": 396.9,\n        \"num_unique_values\": 357,\n        \"samples\": [\n          396.24,\n          395.11\n        ],\n        \"semantic_type\": \"\",\n        \"description\": \"\"\n      }\n    },\n    {\n      \"column\": \"lstat\",\n      \"properties\": {\n        \"dtype\": \"number\",\n        \"std\": 7.141061511348571,\n        \"min\": 1.73,\n        \"max\": 37.97,\n        \"num_unique_values\": 455,\n        \"samples\": [\n          6.15,\n          4.32\n        ],\n        \"semantic_type\": \"\",\n        \"description\": \"\"\n      }\n    },\n    {\n      \"column\": \"medv\",\n      \"properties\": {\n        \"dtype\": \"number\",\n        \"std\": 9.19710408737982,\n        \"min\": 5.0,\n        \"max\": 50.0,\n        \"num_unique_values\": 229,\n        \"samples\": [\n          14.1,\n          22.5\n        ],\n        \"semantic_type\": \"\",\n        \"description\": \"\"\n      }\n    }\n  ]\n}"
            }
          },
          "metadata": {},
          "execution_count": 8
        }
      ]
    },
    {
      "cell_type": "markdown",
      "source": [
        "[데이터 컬럼 설명 (데이터 파일명: BostonHousing.csv)]\n",
        "- crim\t: 지역별 범죄율\n",
        "- zn : 25,000평방피트를 초과하는 주거지역 비율\n",
        "- indus\t: 비소매상업지역 면적 비율\n",
        "- chas : 찰스강 인접 여부 (1: 인접, 0: 비접)\n",
        "- nox\t: 일산화질소 농도\n",
        "- rm\t: 주택당 평균 방 수\n",
        "- age\t: 1940년 이전에 건축된 주택 비율\n",
        "- dis\t: 직업센터와의 거리\n",
        "- rad\t: 방사형 고속도로 접근성\n",
        "- tax\t: 재산세율 (10,000달러당)\n",
        "- ptratio\t: 학생-교사 비율\n",
        "- b\t: 흑인 거주 비율 지수 (1000(Bk - 0.63)^2, Bk는 흑인 비율)\n",
        "- lstat\t: 하위 계층 비율 (%)\n",
        "- medv : 주택 가격의 중앙값 (단위: $1,000)"
      ],
      "metadata": {
        "id": "tD_0rtR7_PiD"
      }
    },
    {
      "cell_type": "code",
      "source": [
        "df.info()"
      ],
      "metadata": {
        "colab": {
          "base_uri": "https://localhost:8080/"
        },
        "id": "2xHJ4jVF_j5a",
        "outputId": "a3473ed3-c474-4160-f0ad-1625e7eda670"
      },
      "execution_count": 9,
      "outputs": [
        {
          "output_type": "stream",
          "name": "stdout",
          "text": [
            "<class 'pandas.core.frame.DataFrame'>\n",
            "RangeIndex: 506 entries, 0 to 505\n",
            "Data columns (total 14 columns):\n",
            " #   Column   Non-Null Count  Dtype  \n",
            "---  ------   --------------  -----  \n",
            " 0   crim     506 non-null    float64\n",
            " 1   zn       506 non-null    float64\n",
            " 2   indus    506 non-null    float64\n",
            " 3   chas     506 non-null    int64  \n",
            " 4   nox      506 non-null    float64\n",
            " 5   rm       501 non-null    float64\n",
            " 6   age      506 non-null    float64\n",
            " 7   dis      506 non-null    float64\n",
            " 8   rad      506 non-null    int64  \n",
            " 9   tax      506 non-null    int64  \n",
            " 10  ptratio  506 non-null    float64\n",
            " 11  b        506 non-null    float64\n",
            " 12  lstat    506 non-null    float64\n",
            " 13  medv     506 non-null    float64\n",
            "dtypes: float64(11), int64(3)\n",
            "memory usage: 55.5 KB\n"
          ]
        }
      ]
    },
    {
      "cell_type": "markdown",
      "source": [
        "## **2.데이터 준비**"
      ],
      "metadata": {
        "id": "oICMvjzJJKbn"
      }
    },
    {
      "cell_type": "markdown",
      "metadata": {
        "id": "y9Q6jR6OZjUk"
      },
      "source": [
        "### (1) 데이터 준비"
      ]
    },
    {
      "cell_type": "code",
      "source": [
        "# 결측치 확인\n",
        "df.isnull().sum()"
      ],
      "metadata": {
        "colab": {
          "base_uri": "https://localhost:8080/",
          "height": 523
        },
        "id": "Qzb0Vzzq_rZv",
        "outputId": "84dba06e-8948-421c-d955-16a257135d33"
      },
      "execution_count": 10,
      "outputs": [
        {
          "output_type": "execute_result",
          "data": {
            "text/plain": [
              "crim       0\n",
              "zn         0\n",
              "indus      0\n",
              "chas       0\n",
              "nox        0\n",
              "rm         5\n",
              "age        0\n",
              "dis        0\n",
              "rad        0\n",
              "tax        0\n",
              "ptratio    0\n",
              "b          0\n",
              "lstat      0\n",
              "medv       0\n",
              "dtype: int64"
            ],
            "text/html": [
              "<div>\n",
              "<style scoped>\n",
              "    .dataframe tbody tr th:only-of-type {\n",
              "        vertical-align: middle;\n",
              "    }\n",
              "\n",
              "    .dataframe tbody tr th {\n",
              "        vertical-align: top;\n",
              "    }\n",
              "\n",
              "    .dataframe thead th {\n",
              "        text-align: right;\n",
              "    }\n",
              "</style>\n",
              "<table border=\"1\" class=\"dataframe\">\n",
              "  <thead>\n",
              "    <tr style=\"text-align: right;\">\n",
              "      <th></th>\n",
              "      <th>0</th>\n",
              "    </tr>\n",
              "  </thead>\n",
              "  <tbody>\n",
              "    <tr>\n",
              "      <th>crim</th>\n",
              "      <td>0</td>\n",
              "    </tr>\n",
              "    <tr>\n",
              "      <th>zn</th>\n",
              "      <td>0</td>\n",
              "    </tr>\n",
              "    <tr>\n",
              "      <th>indus</th>\n",
              "      <td>0</td>\n",
              "    </tr>\n",
              "    <tr>\n",
              "      <th>chas</th>\n",
              "      <td>0</td>\n",
              "    </tr>\n",
              "    <tr>\n",
              "      <th>nox</th>\n",
              "      <td>0</td>\n",
              "    </tr>\n",
              "    <tr>\n",
              "      <th>rm</th>\n",
              "      <td>5</td>\n",
              "    </tr>\n",
              "    <tr>\n",
              "      <th>age</th>\n",
              "      <td>0</td>\n",
              "    </tr>\n",
              "    <tr>\n",
              "      <th>dis</th>\n",
              "      <td>0</td>\n",
              "    </tr>\n",
              "    <tr>\n",
              "      <th>rad</th>\n",
              "      <td>0</td>\n",
              "    </tr>\n",
              "    <tr>\n",
              "      <th>tax</th>\n",
              "      <td>0</td>\n",
              "    </tr>\n",
              "    <tr>\n",
              "      <th>ptratio</th>\n",
              "      <td>0</td>\n",
              "    </tr>\n",
              "    <tr>\n",
              "      <th>b</th>\n",
              "      <td>0</td>\n",
              "    </tr>\n",
              "    <tr>\n",
              "      <th>lstat</th>\n",
              "      <td>0</td>\n",
              "    </tr>\n",
              "    <tr>\n",
              "      <th>medv</th>\n",
              "      <td>0</td>\n",
              "    </tr>\n",
              "  </tbody>\n",
              "</table>\n",
              "</div><br><label><b>dtype:</b> int64</label>"
            ]
          },
          "metadata": {},
          "execution_count": 10
        }
      ]
    },
    {
      "cell_type": "code",
      "source": [
        "# 결측치 제거\n",
        "df = df.dropna()\n",
        "df.info()"
      ],
      "metadata": {
        "colab": {
          "base_uri": "https://localhost:8080/"
        },
        "id": "jUlTo3Qk_tkA",
        "outputId": "e25af384-1cf0-4ba2-a639-bc0724391eae"
      },
      "execution_count": 11,
      "outputs": [
        {
          "output_type": "stream",
          "name": "stdout",
          "text": [
            "<class 'pandas.core.frame.DataFrame'>\n",
            "Index: 501 entries, 0 to 505\n",
            "Data columns (total 14 columns):\n",
            " #   Column   Non-Null Count  Dtype  \n",
            "---  ------   --------------  -----  \n",
            " 0   crim     501 non-null    float64\n",
            " 1   zn       501 non-null    float64\n",
            " 2   indus    501 non-null    float64\n",
            " 3   chas     501 non-null    int64  \n",
            " 4   nox      501 non-null    float64\n",
            " 5   rm       501 non-null    float64\n",
            " 6   age      501 non-null    float64\n",
            " 7   dis      501 non-null    float64\n",
            " 8   rad      501 non-null    int64  \n",
            " 9   tax      501 non-null    int64  \n",
            " 10  ptratio  501 non-null    float64\n",
            " 11  b        501 non-null    float64\n",
            " 12  lstat    501 non-null    float64\n",
            " 13  medv     501 non-null    float64\n",
            "dtypes: float64(11), int64(3)\n",
            "memory usage: 58.7 KB\n"
          ]
        }
      ]
    },
    {
      "cell_type": "code",
      "source": [
        "# 데이터 확인\n",
        "df.head(2)"
      ],
      "metadata": {
        "colab": {
          "base_uri": "https://localhost:8080/",
          "height": 112
        },
        "id": "6psuLgCY_-o6",
        "outputId": "e9a9dbef-a283-4008-ca81-9c3990d8197c"
      },
      "execution_count": 12,
      "outputs": [
        {
          "output_type": "execute_result",
          "data": {
            "text/plain": [
              "      crim    zn  indus  chas    nox     rm   age     dis  rad  tax  ptratio  \\\n",
              "0  0.00632  18.0   2.31     0  0.538  6.575  65.2  4.0900    1  296     15.3   \n",
              "1  0.02731   0.0   7.07     0  0.469  6.421  78.9  4.9671    2  242     17.8   \n",
              "\n",
              "       b  lstat  medv  \n",
              "0  396.9   4.98  24.0  \n",
              "1  396.9   9.14  21.6  "
            ],
            "text/html": [
              "\n",
              "  <div id=\"df-321dc84a-5b65-4907-ab19-5c56fe2fc0f8\" class=\"colab-df-container\">\n",
              "    <div>\n",
              "<style scoped>\n",
              "    .dataframe tbody tr th:only-of-type {\n",
              "        vertical-align: middle;\n",
              "    }\n",
              "\n",
              "    .dataframe tbody tr th {\n",
              "        vertical-align: top;\n",
              "    }\n",
              "\n",
              "    .dataframe thead th {\n",
              "        text-align: right;\n",
              "    }\n",
              "</style>\n",
              "<table border=\"1\" class=\"dataframe\">\n",
              "  <thead>\n",
              "    <tr style=\"text-align: right;\">\n",
              "      <th></th>\n",
              "      <th>crim</th>\n",
              "      <th>zn</th>\n",
              "      <th>indus</th>\n",
              "      <th>chas</th>\n",
              "      <th>nox</th>\n",
              "      <th>rm</th>\n",
              "      <th>age</th>\n",
              "      <th>dis</th>\n",
              "      <th>rad</th>\n",
              "      <th>tax</th>\n",
              "      <th>ptratio</th>\n",
              "      <th>b</th>\n",
              "      <th>lstat</th>\n",
              "      <th>medv</th>\n",
              "    </tr>\n",
              "  </thead>\n",
              "  <tbody>\n",
              "    <tr>\n",
              "      <th>0</th>\n",
              "      <td>0.00632</td>\n",
              "      <td>18.0</td>\n",
              "      <td>2.31</td>\n",
              "      <td>0</td>\n",
              "      <td>0.538</td>\n",
              "      <td>6.575</td>\n",
              "      <td>65.2</td>\n",
              "      <td>4.0900</td>\n",
              "      <td>1</td>\n",
              "      <td>296</td>\n",
              "      <td>15.3</td>\n",
              "      <td>396.9</td>\n",
              "      <td>4.98</td>\n",
              "      <td>24.0</td>\n",
              "    </tr>\n",
              "    <tr>\n",
              "      <th>1</th>\n",
              "      <td>0.02731</td>\n",
              "      <td>0.0</td>\n",
              "      <td>7.07</td>\n",
              "      <td>0</td>\n",
              "      <td>0.469</td>\n",
              "      <td>6.421</td>\n",
              "      <td>78.9</td>\n",
              "      <td>4.9671</td>\n",
              "      <td>2</td>\n",
              "      <td>242</td>\n",
              "      <td>17.8</td>\n",
              "      <td>396.9</td>\n",
              "      <td>9.14</td>\n",
              "      <td>21.6</td>\n",
              "    </tr>\n",
              "  </tbody>\n",
              "</table>\n",
              "</div>\n",
              "    <div class=\"colab-df-buttons\">\n",
              "\n",
              "  <div class=\"colab-df-container\">\n",
              "    <button class=\"colab-df-convert\" onclick=\"convertToInteractive('df-321dc84a-5b65-4907-ab19-5c56fe2fc0f8')\"\n",
              "            title=\"Convert this dataframe to an interactive table.\"\n",
              "            style=\"display:none;\">\n",
              "\n",
              "  <svg xmlns=\"http://www.w3.org/2000/svg\" height=\"24px\" viewBox=\"0 -960 960 960\">\n",
              "    <path d=\"M120-120v-720h720v720H120Zm60-500h600v-160H180v160Zm220 220h160v-160H400v160Zm0 220h160v-160H400v160ZM180-400h160v-160H180v160Zm440 0h160v-160H620v160ZM180-180h160v-160H180v160Zm440 0h160v-160H620v160Z\"/>\n",
              "  </svg>\n",
              "    </button>\n",
              "\n",
              "  <style>\n",
              "    .colab-df-container {\n",
              "      display:flex;\n",
              "      gap: 12px;\n",
              "    }\n",
              "\n",
              "    .colab-df-convert {\n",
              "      background-color: #E8F0FE;\n",
              "      border: none;\n",
              "      border-radius: 50%;\n",
              "      cursor: pointer;\n",
              "      display: none;\n",
              "      fill: #1967D2;\n",
              "      height: 32px;\n",
              "      padding: 0 0 0 0;\n",
              "      width: 32px;\n",
              "    }\n",
              "\n",
              "    .colab-df-convert:hover {\n",
              "      background-color: #E2EBFA;\n",
              "      box-shadow: 0px 1px 2px rgba(60, 64, 67, 0.3), 0px 1px 3px 1px rgba(60, 64, 67, 0.15);\n",
              "      fill: #174EA6;\n",
              "    }\n",
              "\n",
              "    .colab-df-buttons div {\n",
              "      margin-bottom: 4px;\n",
              "    }\n",
              "\n",
              "    [theme=dark] .colab-df-convert {\n",
              "      background-color: #3B4455;\n",
              "      fill: #D2E3FC;\n",
              "    }\n",
              "\n",
              "    [theme=dark] .colab-df-convert:hover {\n",
              "      background-color: #434B5C;\n",
              "      box-shadow: 0px 1px 3px 1px rgba(0, 0, 0, 0.15);\n",
              "      filter: drop-shadow(0px 1px 2px rgba(0, 0, 0, 0.3));\n",
              "      fill: #FFFFFF;\n",
              "    }\n",
              "  </style>\n",
              "\n",
              "    <script>\n",
              "      const buttonEl =\n",
              "        document.querySelector('#df-321dc84a-5b65-4907-ab19-5c56fe2fc0f8 button.colab-df-convert');\n",
              "      buttonEl.style.display =\n",
              "        google.colab.kernel.accessAllowed ? 'block' : 'none';\n",
              "\n",
              "      async function convertToInteractive(key) {\n",
              "        const element = document.querySelector('#df-321dc84a-5b65-4907-ab19-5c56fe2fc0f8');\n",
              "        const dataTable =\n",
              "          await google.colab.kernel.invokeFunction('convertToInteractive',\n",
              "                                                    [key], {});\n",
              "        if (!dataTable) return;\n",
              "\n",
              "        const docLinkHtml = 'Like what you see? Visit the ' +\n",
              "          '<a target=\"_blank\" href=https://colab.research.google.com/notebooks/data_table.ipynb>data table notebook</a>'\n",
              "          + ' to learn more about interactive tables.';\n",
              "        element.innerHTML = '';\n",
              "        dataTable['output_type'] = 'display_data';\n",
              "        await google.colab.output.renderOutput(dataTable, element);\n",
              "        const docLink = document.createElement('div');\n",
              "        docLink.innerHTML = docLinkHtml;\n",
              "        element.appendChild(docLink);\n",
              "      }\n",
              "    </script>\n",
              "  </div>\n",
              "\n",
              "\n",
              "<div id=\"df-74a383ed-3b6b-476d-9189-1f23fe3d1a67\">\n",
              "  <button class=\"colab-df-quickchart\" onclick=\"quickchart('df-74a383ed-3b6b-476d-9189-1f23fe3d1a67')\"\n",
              "            title=\"Suggest charts\"\n",
              "            style=\"display:none;\">\n",
              "\n",
              "<svg xmlns=\"http://www.w3.org/2000/svg\" height=\"24px\"viewBox=\"0 0 24 24\"\n",
              "     width=\"24px\">\n",
              "    <g>\n",
              "        <path d=\"M19 3H5c-1.1 0-2 .9-2 2v14c0 1.1.9 2 2 2h14c1.1 0 2-.9 2-2V5c0-1.1-.9-2-2-2zM9 17H7v-7h2v7zm4 0h-2V7h2v10zm4 0h-2v-4h2v4z\"/>\n",
              "    </g>\n",
              "</svg>\n",
              "  </button>\n",
              "\n",
              "<style>\n",
              "  .colab-df-quickchart {\n",
              "      --bg-color: #E8F0FE;\n",
              "      --fill-color: #1967D2;\n",
              "      --hover-bg-color: #E2EBFA;\n",
              "      --hover-fill-color: #174EA6;\n",
              "      --disabled-fill-color: #AAA;\n",
              "      --disabled-bg-color: #DDD;\n",
              "  }\n",
              "\n",
              "  [theme=dark] .colab-df-quickchart {\n",
              "      --bg-color: #3B4455;\n",
              "      --fill-color: #D2E3FC;\n",
              "      --hover-bg-color: #434B5C;\n",
              "      --hover-fill-color: #FFFFFF;\n",
              "      --disabled-bg-color: #3B4455;\n",
              "      --disabled-fill-color: #666;\n",
              "  }\n",
              "\n",
              "  .colab-df-quickchart {\n",
              "    background-color: var(--bg-color);\n",
              "    border: none;\n",
              "    border-radius: 50%;\n",
              "    cursor: pointer;\n",
              "    display: none;\n",
              "    fill: var(--fill-color);\n",
              "    height: 32px;\n",
              "    padding: 0;\n",
              "    width: 32px;\n",
              "  }\n",
              "\n",
              "  .colab-df-quickchart:hover {\n",
              "    background-color: var(--hover-bg-color);\n",
              "    box-shadow: 0 1px 2px rgba(60, 64, 67, 0.3), 0 1px 3px 1px rgba(60, 64, 67, 0.15);\n",
              "    fill: var(--button-hover-fill-color);\n",
              "  }\n",
              "\n",
              "  .colab-df-quickchart-complete:disabled,\n",
              "  .colab-df-quickchart-complete:disabled:hover {\n",
              "    background-color: var(--disabled-bg-color);\n",
              "    fill: var(--disabled-fill-color);\n",
              "    box-shadow: none;\n",
              "  }\n",
              "\n",
              "  .colab-df-spinner {\n",
              "    border: 2px solid var(--fill-color);\n",
              "    border-color: transparent;\n",
              "    border-bottom-color: var(--fill-color);\n",
              "    animation:\n",
              "      spin 1s steps(1) infinite;\n",
              "  }\n",
              "\n",
              "  @keyframes spin {\n",
              "    0% {\n",
              "      border-color: transparent;\n",
              "      border-bottom-color: var(--fill-color);\n",
              "      border-left-color: var(--fill-color);\n",
              "    }\n",
              "    20% {\n",
              "      border-color: transparent;\n",
              "      border-left-color: var(--fill-color);\n",
              "      border-top-color: var(--fill-color);\n",
              "    }\n",
              "    30% {\n",
              "      border-color: transparent;\n",
              "      border-left-color: var(--fill-color);\n",
              "      border-top-color: var(--fill-color);\n",
              "      border-right-color: var(--fill-color);\n",
              "    }\n",
              "    40% {\n",
              "      border-color: transparent;\n",
              "      border-right-color: var(--fill-color);\n",
              "      border-top-color: var(--fill-color);\n",
              "    }\n",
              "    60% {\n",
              "      border-color: transparent;\n",
              "      border-right-color: var(--fill-color);\n",
              "    }\n",
              "    80% {\n",
              "      border-color: transparent;\n",
              "      border-right-color: var(--fill-color);\n",
              "      border-bottom-color: var(--fill-color);\n",
              "    }\n",
              "    90% {\n",
              "      border-color: transparent;\n",
              "      border-bottom-color: var(--fill-color);\n",
              "    }\n",
              "  }\n",
              "</style>\n",
              "\n",
              "  <script>\n",
              "    async function quickchart(key) {\n",
              "      const quickchartButtonEl =\n",
              "        document.querySelector('#' + key + ' button');\n",
              "      quickchartButtonEl.disabled = true;  // To prevent multiple clicks.\n",
              "      quickchartButtonEl.classList.add('colab-df-spinner');\n",
              "      try {\n",
              "        const charts = await google.colab.kernel.invokeFunction(\n",
              "            'suggestCharts', [key], {});\n",
              "      } catch (error) {\n",
              "        console.error('Error during call to suggestCharts:', error);\n",
              "      }\n",
              "      quickchartButtonEl.classList.remove('colab-df-spinner');\n",
              "      quickchartButtonEl.classList.add('colab-df-quickchart-complete');\n",
              "    }\n",
              "    (() => {\n",
              "      let quickchartButtonEl =\n",
              "        document.querySelector('#df-74a383ed-3b6b-476d-9189-1f23fe3d1a67 button');\n",
              "      quickchartButtonEl.style.display =\n",
              "        google.colab.kernel.accessAllowed ? 'block' : 'none';\n",
              "    })();\n",
              "  </script>\n",
              "</div>\n",
              "\n",
              "    </div>\n",
              "  </div>\n"
            ],
            "application/vnd.google.colaboratory.intrinsic+json": {
              "type": "dataframe",
              "variable_name": "df",
              "summary": "{\n  \"name\": \"df\",\n  \"rows\": 501,\n  \"fields\": [\n    {\n      \"column\": \"crim\",\n      \"properties\": {\n        \"dtype\": \"number\",\n        \"std\": 8.637688292029999,\n        \"min\": 0.00632,\n        \"max\": 88.9762,\n        \"num_unique_values\": 499,\n        \"samples\": [\n          3.77498,\n          0.10153,\n          0.52058\n        ],\n        \"semantic_type\": \"\",\n        \"description\": \"\"\n      }\n    },\n    {\n      \"column\": \"zn\",\n      \"properties\": {\n        \"dtype\": \"number\",\n        \"std\": 23.414213955835795,\n        \"min\": 0.0,\n        \"max\": 100.0,\n        \"num_unique_values\": 26,\n        \"samples\": [\n          25.0,\n          30.0,\n          18.0\n        ],\n        \"semantic_type\": \"\",\n        \"description\": \"\"\n      }\n    },\n    {\n      \"column\": \"indus\",\n      \"properties\": {\n        \"dtype\": \"number\",\n        \"std\": 6.857122619318328,\n        \"min\": 0.46,\n        \"max\": 27.74,\n        \"num_unique_values\": 76,\n        \"samples\": [\n          8.14,\n          1.47,\n          1.22\n        ],\n        \"semantic_type\": \"\",\n        \"description\": \"\"\n      }\n    },\n    {\n      \"column\": \"chas\",\n      \"properties\": {\n        \"dtype\": \"number\",\n        \"std\": 0,\n        \"min\": 0,\n        \"max\": 1,\n        \"num_unique_values\": 2,\n        \"samples\": [\n          1,\n          0\n        ],\n        \"semantic_type\": \"\",\n        \"description\": \"\"\n      }\n    },\n    {\n      \"column\": \"nox\",\n      \"properties\": {\n        \"dtype\": \"number\",\n        \"std\": 0.11618631289352636,\n        \"min\": 0.385,\n        \"max\": 0.871,\n        \"num_unique_values\": 81,\n        \"samples\": [\n          0.401,\n          0.538\n        ],\n        \"semantic_type\": \"\",\n        \"description\": \"\"\n      }\n    },\n    {\n      \"column\": \"rm\",\n      \"properties\": {\n        \"dtype\": \"number\",\n        \"std\": 0.7055867751520439,\n        \"min\": 3.561,\n        \"max\": 8.78,\n        \"num_unique_values\": 441,\n        \"samples\": [\n          6.389,\n          6.12\n        ],\n        \"semantic_type\": \"\",\n        \"description\": \"\"\n      }\n    },\n    {\n      \"column\": \"age\",\n      \"properties\": {\n        \"dtype\": \"number\",\n        \"std\": 28.212220770410898,\n        \"min\": 2.9,\n        \"max\": 100.0,\n        \"num_unique_values\": 353,\n        \"samples\": [\n          67.0,\n          85.5\n        ],\n        \"semantic_type\": \"\",\n        \"description\": \"\"\n      }\n    },\n    {\n      \"column\": \"dis\",\n      \"properties\": {\n        \"dtype\": \"number\",\n        \"std\": 2.103326957389458,\n        \"min\": 1.1296,\n        \"max\": 12.1265,\n        \"num_unique_values\": 408,\n        \"samples\": [\n          2.8561,\n          9.0892\n        ],\n        \"semantic_type\": \"\",\n        \"description\": \"\"\n      }\n    },\n    {\n      \"column\": \"rad\",\n      \"properties\": {\n        \"dtype\": \"number\",\n        \"std\": 8,\n        \"min\": 1,\n        \"max\": 24,\n        \"num_unique_values\": 9,\n        \"samples\": [\n          7,\n          2\n        ],\n        \"semantic_type\": \"\",\n        \"description\": \"\"\n      }\n    },\n    {\n      \"column\": \"tax\",\n      \"properties\": {\n        \"dtype\": \"number\",\n        \"std\": 169,\n        \"min\": 187,\n        \"max\": 711,\n        \"num_unique_values\": 66,\n        \"samples\": [\n          370,\n          666\n        ],\n        \"semantic_type\": \"\",\n        \"description\": \"\"\n      }\n    },\n    {\n      \"column\": \"ptratio\",\n      \"properties\": {\n        \"dtype\": \"number\",\n        \"std\": 2.166327023893454,\n        \"min\": 12.6,\n        \"max\": 22.0,\n        \"num_unique_values\": 46,\n        \"samples\": [\n          19.6,\n          15.6\n        ],\n        \"semantic_type\": \"\",\n        \"description\": \"\"\n      }\n    },\n    {\n      \"column\": \"b\",\n      \"properties\": {\n        \"dtype\": \"number\",\n        \"std\": 91.67205546192352,\n        \"min\": 0.32,\n        \"max\": 396.9,\n        \"num_unique_values\": 354,\n        \"samples\": [\n          350.45,\n          378.08\n        ],\n        \"semantic_type\": \"\",\n        \"description\": \"\"\n      }\n    },\n    {\n      \"column\": \"lstat\",\n      \"properties\": {\n        \"dtype\": \"number\",\n        \"std\": 7.162745722878816,\n        \"min\": 1.73,\n        \"max\": 37.97,\n        \"num_unique_values\": 451,\n        \"samples\": [\n          6.15,\n          4.84\n        ],\n        \"semantic_type\": \"\",\n        \"description\": \"\"\n      }\n    },\n    {\n      \"column\": \"medv\",\n      \"properties\": {\n        \"dtype\": \"number\",\n        \"std\": 9.232435083165777,\n        \"min\": 5.0,\n        \"max\": 50.0,\n        \"num_unique_values\": 228,\n        \"samples\": [\n          14.1,\n          23.6\n        ],\n        \"semantic_type\": \"\",\n        \"description\": \"\"\n      }\n    }\n  ]\n}"
            }
          },
          "metadata": {},
          "execution_count": 12
        }
      ]
    },
    {
      "cell_type": "code",
      "source": [
        "# 데이터를 확인하고, 불필요해 보이는 컬럼을 제거\n",
        "# zn(25000평방피트를 초과하는 주거지역 비율), chas(찰스강 인접 여부 (1: 인접, 0: 비접)), rad(방사형 고속도로 접근성), b(흑인 거주 비율 지수)\n",
        "\n",
        "df = df.drop(['zn', 'chas', 'rad', 'b'], axis=1)\n",
        "df.info()"
      ],
      "metadata": {
        "colab": {
          "base_uri": "https://localhost:8080/"
        },
        "id": "I5tYCuCy_7bF",
        "outputId": "85610c8f-bb76-400a-a81c-1e9f067218a3"
      },
      "execution_count": 13,
      "outputs": [
        {
          "output_type": "stream",
          "name": "stdout",
          "text": [
            "<class 'pandas.core.frame.DataFrame'>\n",
            "Index: 501 entries, 0 to 505\n",
            "Data columns (total 10 columns):\n",
            " #   Column   Non-Null Count  Dtype  \n",
            "---  ------   --------------  -----  \n",
            " 0   crim     501 non-null    float64\n",
            " 1   indus    501 non-null    float64\n",
            " 2   nox      501 non-null    float64\n",
            " 3   rm       501 non-null    float64\n",
            " 4   age      501 non-null    float64\n",
            " 5   dis      501 non-null    float64\n",
            " 6   tax      501 non-null    int64  \n",
            " 7   ptratio  501 non-null    float64\n",
            " 8   lstat    501 non-null    float64\n",
            " 9   medv     501 non-null    float64\n",
            "dtypes: float64(9), int64(1)\n",
            "memory usage: 43.1 KB\n"
          ]
        }
      ]
    },
    {
      "cell_type": "code",
      "metadata": {
        "id": "FA-PnUpcLqXN"
      },
      "source": [
        "features = df.drop('medv', axis=1)\n",
        "target = df['medv']"
      ],
      "execution_count": 14,
      "outputs": []
    },
    {
      "cell_type": "markdown",
      "metadata": {
        "id": "nOF9fSLQugGf"
      },
      "source": [
        "### (2) 가변수화"
      ]
    },
    {
      "cell_type": "markdown",
      "source": [
        "### (3) 데이터분할"
      ],
      "metadata": {
        "id": "KsGGC-a4vpar"
      }
    },
    {
      "cell_type": "code",
      "source": [
        "x_train, x_valid, y_train, y_valid = train_test_split(features, target, test_size=0.2, random_state = 42)"
      ],
      "metadata": {
        "id": "7ilUcIlvvrqR"
      },
      "execution_count": 15,
      "outputs": []
    },
    {
      "cell_type": "markdown",
      "metadata": {
        "id": "MXUC5Yi3um81"
      },
      "source": [
        "### (4) Scaling"
      ]
    },
    {
      "cell_type": "code",
      "source": [
        "# 스케일러 선언\n",
        "mms = MinMaxScaler()\n",
        "x_train = mms.fit_transform(x_train)\n",
        "x_valid = mms.transform(x_valid)"
      ],
      "metadata": {
        "id": "9bly3GLif1eP"
      },
      "execution_count": 16,
      "outputs": []
    },
    {
      "cell_type": "markdown",
      "source": [
        "##3.모델링"
      ],
      "metadata": {
        "id": "o1nKYi7l2qhN"
      }
    },
    {
      "cell_type": "markdown",
      "metadata": {
        "id": "fr_AhIaY2Ka2"
      },
      "source": [
        "### (1) 딥러닝을 위한 준비작업"
      ]
    },
    {
      "cell_type": "markdown",
      "source": [
        "* make_DataLoader\n",
        "    * train : 미니 배치 처리를 위한 데이터 로더로 만들기\n",
        "    * val : 검증셋으로 성능 측정하면 되므로 텐서 그대로 사용"
      ],
      "metadata": {
        "id": "i4q-s4QeUOSO"
      }
    },
    {
      "cell_type": "code",
      "source": [
        "train_loader, x_valid_ts, y_valid_ts = make_DataSet(x_train, x_valid, y_train, y_valid, 32)"
      ],
      "metadata": {
        "id": "sWT5om5P43Rm"
      },
      "execution_count": 17,
      "outputs": []
    },
    {
      "cell_type": "code",
      "source": [
        "# 첫번째 배치만 로딩해서 살펴보기\n",
        "for x, y in train_loader:\n",
        "    print(f\"Shape of x [rows, columns]: {x.shape}\")\n",
        "    print(f\"Shape of y: {y.shape} {y.dtype}\")\n",
        "    break"
      ],
      "metadata": {
        "id": "sKH1fU5U43Rn",
        "colab": {
          "base_uri": "https://localhost:8080/"
        },
        "outputId": "406e448b-7c7c-4052-b490-591d160b0c0e"
      },
      "execution_count": 18,
      "outputs": [
        {
          "output_type": "stream",
          "name": "stdout",
          "text": [
            "Shape of x [rows, columns]: torch.Size([32, 9])\n",
            "Shape of y: torch.Size([32, 1]) torch.float32\n"
          ]
        }
      ]
    },
    {
      "cell_type": "markdown",
      "metadata": {
        "id": "H0JLu5wP2Ka3"
      },
      "source": [
        "### (2) 모델 선언"
      ]
    },
    {
      "cell_type": "code",
      "metadata": {
        "id": "3hkvZUsQ4-jZ",
        "colab": {
          "base_uri": "https://localhost:8080/"
        },
        "outputId": "55696f89-9e2f-4ac1-dc0a-5aae55fb1984"
      },
      "source": [
        "n_feature = x_train.shape[-1]\n",
        "n_class = 1\n",
        "\n",
        "# 모델 구조 설계\n",
        "model = nn.Sequential(nn.Linear(n_feature, 64),\n",
        "                      nn.ReLU(),\n",
        "                      nn.Dropout(p=0.2),\n",
        "                      nn.Linear(64, 32),\n",
        "                      nn.ReLU(),\n",
        "                      nn.Dropout(p=0.2),\n",
        "                      nn.Linear(32, 16),\n",
        "                      nn.ReLU(),\n",
        "                      nn.Dropout(p=0.2),\n",
        "                      nn.Linear(16, n_class)\n",
        "        ).to(device)\n",
        "\n",
        "print(model)"
      ],
      "execution_count": 19,
      "outputs": [
        {
          "output_type": "stream",
          "name": "stdout",
          "text": [
            "Sequential(\n",
            "  (0): Linear(in_features=9, out_features=64, bias=True)\n",
            "  (1): ReLU()\n",
            "  (2): Dropout(p=0.2, inplace=False)\n",
            "  (3): Linear(in_features=64, out_features=32, bias=True)\n",
            "  (4): ReLU()\n",
            "  (5): Dropout(p=0.2, inplace=False)\n",
            "  (6): Linear(in_features=32, out_features=16, bias=True)\n",
            "  (7): ReLU()\n",
            "  (8): Dropout(p=0.2, inplace=False)\n",
            "  (9): Linear(in_features=16, out_features=1, bias=True)\n",
            ")\n"
          ]
        }
      ]
    },
    {
      "cell_type": "markdown",
      "source": [
        "* Loss function과 Optimizer\n",
        "    * loss function : MSE\n",
        "    * Optimizer : Adam(모델 파라미터, 학습률)"
      ],
      "metadata": {
        "id": "M1eohQRI4-ji"
      }
    },
    {
      "cell_type": "code",
      "execution_count": 20,
      "metadata": {
        "id": "xmR4TlQo4-ji"
      },
      "outputs": [],
      "source": [
        "loss_fn = nn.MSELoss()\n",
        "optimizer = Adam(model.parameters(), lr=0.001)"
      ]
    },
    {
      "cell_type": "markdown",
      "source": [
        "### (3) 학습"
      ],
      "metadata": {
        "id": "pKU0G8Rc2Ka3"
      }
    },
    {
      "cell_type": "code",
      "source": [
        "epochs = 100\n",
        "tr_loss_list, val_loss_list = [], []\n",
        "\n",
        "# early stopping을 위한 변수 설정 ----------------\n",
        "patience = 5\n",
        "best_loss = float('inf')  # 초기값을 무한대로 설정\n",
        "counter = 0\n",
        "# ------------------------------------------------\n",
        "\n",
        "for t in range(epochs):\n",
        "    tr_loss = train(train_loader, model, loss_fn, optimizer, device)\n",
        "    val_loss,_= evaluate(x_valid_ts, y_valid_ts, model, loss_fn, device)\n",
        "\n",
        "    # 리스트에 추가\n",
        "    tr_loss_list.append(tr_loss)     # train - CrossEntropy\n",
        "    val_loss_list.append(val_loss)   # val - CrossEntropy\n",
        "\n",
        "    print(f\"Epoch {t+1}, train loss : {tr_loss:4f}, val loss : {val_loss:4f}\")\n",
        "\n",
        "    # early stopping 확인 -------------------\n",
        "    if val_loss > best_loss:\n",
        "            counter += 1\n",
        "            print(f'--> early stopping status, best_loss : {best_loss:4f}, counter : {counter}')\n",
        "\n",
        "    else:\n",
        "        best_loss = val_loss\n",
        "        counter = 0\n",
        "        torch.save(model.state_dict(), 'best_model.pt')  # 💾 best 모델의 파라미터 저장\n",
        "        print(f\"✔️ Best model saved at epoch {t+1} with val loss: {best_loss:.4f}\")  # ✅ 저장 메시지\n",
        "\n",
        "    # 조기 종료 조건 확인\n",
        "    if counter >= patience:\n",
        "        print(\"Early Stopping!\")\n",
        "        break\n",
        "    # ----------------------------------------\n",
        "\n",
        "\n",
        "\n",
        "\n",
        "\n"
      ],
      "metadata": {
        "id": "Q8En7EdyZPXk",
        "colab": {
          "base_uri": "https://localhost:8080/"
        },
        "outputId": "00f3c623-5707-448d-b5d3-dd41ca7a4a6b"
      },
      "execution_count": 21,
      "outputs": [
        {
          "output_type": "stream",
          "name": "stdout",
          "text": [
            "Epoch 1, train loss : 614.572021, val loss : 522.933777\n",
            "✔️ Best model saved at epoch 1 with val loss: 522.9338\n",
            "Epoch 2, train loss : 610.519287, val loss : 518.742310\n",
            "✔️ Best model saved at epoch 2 with val loss: 518.7423\n",
            "Epoch 3, train loss : 596.569031, val loss : 513.154053\n",
            "✔️ Best model saved at epoch 3 with val loss: 513.1541\n",
            "Epoch 4, train loss : 606.635315, val loss : 501.413025\n",
            "✔️ Best model saved at epoch 4 with val loss: 501.4130\n",
            "Epoch 5, train loss : 575.424133, val loss : 474.421692\n",
            "✔️ Best model saved at epoch 5 with val loss: 474.4217\n",
            "Epoch 6, train loss : 529.910583, val loss : 417.952698\n",
            "✔️ Best model saved at epoch 6 with val loss: 417.9527\n",
            "Epoch 7, train loss : 442.612183, val loss : 321.941620\n",
            "✔️ Best model saved at epoch 7 with val loss: 321.9416\n",
            "Epoch 8, train loss : 323.234924, val loss : 207.364349\n",
            "✔️ Best model saved at epoch 8 with val loss: 207.3643\n",
            "Epoch 9, train loss : 213.085785, val loss : 149.118713\n",
            "✔️ Best model saved at epoch 9 with val loss: 149.1187\n",
            "Epoch 10, train loss : 167.003036, val loss : 150.018494\n",
            "--> early stopping status, best_loss : 149.118713, counter : 1\n",
            "Epoch 11, train loss : 195.174774, val loss : 130.638123\n",
            "✔️ Best model saved at epoch 11 with val loss: 130.6381\n",
            "Epoch 12, train loss : 178.933914, val loss : 121.074471\n",
            "✔️ Best model saved at epoch 12 with val loss: 121.0745\n",
            "Epoch 13, train loss : 153.834732, val loss : 112.348305\n",
            "✔️ Best model saved at epoch 13 with val loss: 112.3483\n",
            "Epoch 14, train loss : 161.122055, val loss : 103.479958\n",
            "✔️ Best model saved at epoch 14 with val loss: 103.4800\n",
            "Epoch 15, train loss : 136.909210, val loss : 95.299149\n",
            "✔️ Best model saved at epoch 15 with val loss: 95.2991\n",
            "Epoch 16, train loss : 126.897827, val loss : 86.780449\n",
            "✔️ Best model saved at epoch 16 with val loss: 86.7804\n",
            "Epoch 17, train loss : 126.941315, val loss : 78.778381\n",
            "✔️ Best model saved at epoch 17 with val loss: 78.7784\n",
            "Epoch 18, train loss : 127.368767, val loss : 71.615227\n",
            "✔️ Best model saved at epoch 18 with val loss: 71.6152\n",
            "Epoch 19, train loss : 117.314331, val loss : 64.469414\n",
            "✔️ Best model saved at epoch 19 with val loss: 64.4694\n",
            "Epoch 20, train loss : 104.523476, val loss : 57.968803\n",
            "✔️ Best model saved at epoch 20 with val loss: 57.9688\n",
            "Epoch 21, train loss : 103.612022, val loss : 52.722054\n",
            "✔️ Best model saved at epoch 21 with val loss: 52.7221\n",
            "Epoch 22, train loss : 98.547989, val loss : 47.757915\n",
            "✔️ Best model saved at epoch 22 with val loss: 47.7579\n",
            "Epoch 23, train loss : 96.733101, val loss : 43.980923\n",
            "✔️ Best model saved at epoch 23 with val loss: 43.9809\n",
            "Epoch 24, train loss : 93.530899, val loss : 40.580555\n",
            "✔️ Best model saved at epoch 24 with val loss: 40.5806\n",
            "Epoch 25, train loss : 97.648308, val loss : 37.952942\n",
            "✔️ Best model saved at epoch 25 with val loss: 37.9529\n",
            "Epoch 26, train loss : 92.217812, val loss : 35.604759\n",
            "✔️ Best model saved at epoch 26 with val loss: 35.6048\n",
            "Epoch 27, train loss : 84.015396, val loss : 34.143730\n",
            "✔️ Best model saved at epoch 27 with val loss: 34.1437\n",
            "Epoch 28, train loss : 86.835503, val loss : 32.414665\n",
            "✔️ Best model saved at epoch 28 with val loss: 32.4147\n",
            "Epoch 29, train loss : 91.372383, val loss : 30.942978\n",
            "✔️ Best model saved at epoch 29 with val loss: 30.9430\n",
            "Epoch 30, train loss : 83.486397, val loss : 30.006983\n",
            "✔️ Best model saved at epoch 30 with val loss: 30.0070\n",
            "Epoch 31, train loss : 77.152176, val loss : 28.615635\n",
            "✔️ Best model saved at epoch 31 with val loss: 28.6156\n",
            "Epoch 32, train loss : 80.335564, val loss : 27.911009\n",
            "✔️ Best model saved at epoch 32 with val loss: 27.9110\n",
            "Epoch 33, train loss : 79.007500, val loss : 26.998161\n",
            "✔️ Best model saved at epoch 33 with val loss: 26.9982\n",
            "Epoch 34, train loss : 70.966194, val loss : 27.129257\n",
            "--> early stopping status, best_loss : 26.998161, counter : 1\n",
            "Epoch 35, train loss : 82.587578, val loss : 25.247412\n",
            "✔️ Best model saved at epoch 35 with val loss: 25.2474\n",
            "Epoch 36, train loss : 82.102417, val loss : 25.685093\n",
            "--> early stopping status, best_loss : 25.247412, counter : 1\n",
            "Epoch 37, train loss : 73.828056, val loss : 24.206861\n",
            "✔️ Best model saved at epoch 37 with val loss: 24.2069\n",
            "Epoch 38, train loss : 82.572067, val loss : 24.005182\n",
            "✔️ Best model saved at epoch 38 with val loss: 24.0052\n",
            "Epoch 39, train loss : 75.445412, val loss : 23.425091\n",
            "✔️ Best model saved at epoch 39 with val loss: 23.4251\n",
            "Epoch 40, train loss : 68.514542, val loss : 22.290022\n",
            "✔️ Best model saved at epoch 40 with val loss: 22.2900\n",
            "Epoch 41, train loss : 68.567642, val loss : 21.371698\n",
            "✔️ Best model saved at epoch 41 with val loss: 21.3717\n",
            "Epoch 42, train loss : 80.418335, val loss : 21.848055\n",
            "--> early stopping status, best_loss : 21.371698, counter : 1\n",
            "Epoch 43, train loss : 68.286850, val loss : 20.922749\n",
            "✔️ Best model saved at epoch 43 with val loss: 20.9227\n",
            "Epoch 44, train loss : 67.283150, val loss : 20.660637\n",
            "✔️ Best model saved at epoch 44 with val loss: 20.6606\n",
            "Epoch 45, train loss : 67.205788, val loss : 20.631765\n",
            "✔️ Best model saved at epoch 45 with val loss: 20.6318\n",
            "Epoch 46, train loss : 61.199360, val loss : 20.399576\n",
            "✔️ Best model saved at epoch 46 with val loss: 20.3996\n",
            "Epoch 47, train loss : 67.313217, val loss : 19.717501\n",
            "✔️ Best model saved at epoch 47 with val loss: 19.7175\n",
            "Epoch 48, train loss : 63.572403, val loss : 19.928608\n",
            "--> early stopping status, best_loss : 19.717501, counter : 1\n",
            "Epoch 49, train loss : 60.749798, val loss : 19.231890\n",
            "✔️ Best model saved at epoch 49 with val loss: 19.2319\n",
            "Epoch 50, train loss : 65.310966, val loss : 19.369282\n",
            "--> early stopping status, best_loss : 19.231890, counter : 1\n",
            "Epoch 51, train loss : 57.779682, val loss : 19.316236\n",
            "--> early stopping status, best_loss : 19.231890, counter : 2\n",
            "Epoch 52, train loss : 58.337166, val loss : 19.531370\n",
            "--> early stopping status, best_loss : 19.231890, counter : 3\n",
            "Epoch 53, train loss : 61.960609, val loss : 19.569849\n",
            "--> early stopping status, best_loss : 19.231890, counter : 4\n",
            "Epoch 54, train loss : 63.137302, val loss : 19.593390\n",
            "--> early stopping status, best_loss : 19.231890, counter : 5\n",
            "Early Stopping!\n"
          ]
        }
      ]
    },
    {
      "cell_type": "markdown",
      "source": [
        "* 학습 곡선"
      ],
      "metadata": {
        "id": "KhS0sy8u6tHZ"
      }
    },
    {
      "cell_type": "code",
      "source": [
        "dl_learning_curve(tr_loss_list, val_loss_list)"
      ],
      "metadata": {
        "id": "H4C8tLHN6uqb",
        "colab": {
          "base_uri": "https://localhost:8080/",
          "height": 449
        },
        "outputId": "5b69d8ed-3e6a-4fea-c0eb-156b146ff56d"
      },
      "execution_count": 22,
      "outputs": [
        {
          "output_type": "display_data",
          "data": {
            "text/plain": [
              "<Figure size 640x480 with 1 Axes>"
            ],
            "image/png": "[encoded data removed]"
          },
          "metadata": {}
        }
      ]
    },
    {
      "cell_type": "markdown",
      "source": [
        "### (4) 모델 평가"
      ],
      "metadata": {
        "id": "VhlqfScB2Ka4"
      }
    },
    {
      "cell_type": "code",
      "metadata": {
        "id": "SLWZ7FHz2Ka4",
        "colab": {
          "base_uri": "https://localhost:8080/"
        },
        "outputId": "9ebb1db4-a97f-4526-b9af-19a214b1f3fd"
      },
      "source": [
        "loss, pred = evaluate(x_valid_ts, y_valid_ts, model, loss_fn, device)\n",
        "print(f'MSE : {loss}')"
      ],
      "execution_count": 23,
      "outputs": [
        {
          "output_type": "stream",
          "name": "stdout",
          "text": [
            "MSE : 19.5933895111084\n"
          ]
        }
      ]
    },
    {
      "cell_type": "code",
      "source": [
        "mae = mean_absolute_error(y_valid_ts.numpy(), pred.numpy())\n",
        "mape = mean_absolute_percentage_error(y_valid_ts.numpy(), pred.numpy())\n",
        "mse = mean_squared_error(y_valid_ts.numpy(), pred.numpy())\n",
        "rmse = root_mean_squared_error(y_valid_ts.numpy(), pred.numpy())\n",
        "r2_score = r2_score(y_valid_ts.numpy(), pred.numpy())\n",
        "print(f'MAE : {mae}')\n",
        "print(f'MAPE : {mape}')\n",
        "print(f'MSE : {mse}')\n",
        "print(f'RMSE : {rmse}')\n",
        "print(f'r2_score : {r2_score}')"
      ],
      "metadata": {
        "id": "xik8miJ0PHSg",
        "colab": {
          "base_uri": "https://localhost:8080/"
        },
        "outputId": "86f4a5c6-5d88-4bed-d148-27be1d09d89c"
      },
      "execution_count": 24,
      "outputs": [
        {
          "output_type": "stream",
          "name": "stdout",
          "text": [
            "MAE : 3.0546860694885254\n",
            "MAPE : 0.16668495535850525\n",
            "MSE : 19.5933895111084\n",
            "RMSE : 4.4264421463012695\n",
            "r2_score : 0.7348376512527466\n"
          ]
        }
      ]
    }
  ]
}